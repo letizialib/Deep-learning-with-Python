{
 "cells": [
  {
   "cell_type": "markdown",
   "metadata": {},
   "source": [
    "### Data representation of neural network"
   ]
  },
  {
   "cell_type": "markdown",
   "metadata": {},
   "source": [
    "In general, all current machine-learning system use tensor as their basic data structure.\n",
    "Tensor are so fundamental to the field that Google's TensorFlow was named after them. \n",
    "So what's a tensor?\n",
    "As its core, a tensor is a container for data -almost always numerical data. "
   ]
  },
  {
   "cell_type": "markdown",
   "metadata": {},
   "source": [
    "##### Scalar (0D tensor)\n",
    "A tensor that contains only one number is called a scalar (or 0-dimensional tensor).\n",
    "In Numpy, a float32 or float64 is a scalar tensor.\n",
    "A scalar tensor has 0 axes. The number of axes of a tensor is also called its rank. "
   ]
  },
  {
   "cell_type": "code",
   "execution_count": 19,
   "metadata": {},
   "outputs": [
    {
     "data": {
      "text/plain": [
       "0"
      ]
     },
     "execution_count": 19,
     "metadata": {},
     "output_type": "execute_result"
    }
   ],
   "source": [
    "# Example of a Numpy scalar\n",
    "import numpy as np \n",
    "x = np.array(12)\n",
    "x.ndim # ndim is an attribute that shows the number of axes (or dimensions) of a NumPy tensor"
   ]
  },
  {
   "cell_type": "markdown",
   "metadata": {},
   "source": [
    "##### Vectors (1D tensors)\n",
    "An array of numbers is called a vector, or 1D tensor.\n",
    "A 1D tensor has exactly one axis."
   ]
  },
  {
   "cell_type": "code",
   "execution_count": 20,
   "metadata": {},
   "outputs": [
    {
     "data": {
      "text/plain": [
       "1"
      ]
     },
     "execution_count": 20,
     "metadata": {},
     "output_type": "execute_result"
    }
   ],
   "source": [
    "# Example of a Numpy vector\n",
    "x = np.array([12, 3, 6, 14])\n",
    "x.ndim"
   ]
  },
  {
   "cell_type": "markdown",
   "metadata": {},
   "source": [
    "##### Matrices (2D tensors)\n",
    "An array of vectors is a matrix, or 2D tensor. A matrix has two axis."
   ]
  },
  {
   "cell_type": "code",
   "execution_count": 21,
   "metadata": {},
   "outputs": [
    {
     "data": {
      "text/plain": [
       "2"
      ]
     },
     "execution_count": 21,
     "metadata": {},
     "output_type": "execute_result"
    }
   ],
   "source": [
    "# Example of a Numpy matrix\n",
    "x = np.array([[5, 78, 2, 34, 0],\n",
    "              [6, 79, 3, 5, 2],\n",
    "              [7, 8, 4, 36, 2]])\n",
    "x.ndim"
   ]
  },
  {
   "cell_type": "markdown",
   "metadata": {},
   "source": [
    "##### 3D tensors and higher-dimensional tensors"
   ]
  },
  {
   "cell_type": "code",
   "execution_count": 22,
   "metadata": {},
   "outputs": [
    {
     "data": {
      "text/plain": [
       "3"
      ]
     },
     "execution_count": 22,
     "metadata": {},
     "output_type": "execute_result"
    }
   ],
   "source": [
    "# Example of a Numpy 3D tensor\n",
    "x =np.array([[[2, 5, 5, 75, 4],\n",
    "              [2, 3, 1, 23, 1],\n",
    "              [2, 4, 2, 3, 2]],\n",
    "              [[2, 3, 2, 3, 2],\n",
    "               [5, 6, 2, 8, 12],\n",
    "               [35, 31, 3, 4, 2]]])\n",
    "x.ndim"
   ]
  },
  {
   "cell_type": "markdown",
   "metadata": {},
   "source": [
    "### Key attributes"
   ]
  },
  {
   "cell_type": "markdown",
   "metadata": {},
   "source": [
    "A tensor is defined by three key attributes:\n",
    "- Number of axes (rank) -For instance, a 3D tensor has three axes.\n",
    "- Shape -This is a tuple of integers that describes how many dimensions the tensor has along each axis. -For instance, the previous matrix has a shape of (3, 5), and rhe 3D tensor example has shape (2, 3, 5).\n",
    "- Data type -This is the type of the data contained in he tensor; for instance, a tensor's type could be float32, unit8, float64, and so on."
   ]
  },
  {
   "cell_type": "code",
   "execution_count": 23,
   "metadata": {},
   "outputs": [
    {
     "name": "stdout",
     "output_type": "stream",
     "text": [
      "rank: 2 \n",
      "shape: (3, 5) \n",
      "data_type: int64\n"
     ]
    }
   ],
   "source": [
    "# Example\n",
    "x = np.array([[5, 78, 2, 34, 0],\n",
    "              [6, 79, 3, 5, 2],\n",
    "              [7, 8, 4, 36, 2]])\n",
    "\n",
    "rank = x.ndim\n",
    "shape = x.shape\n",
    "data_type = x.dtype\n",
    "\n",
    "print(\"rank:\", rank, \n",
    "      \"\\nshape:\", shape, \n",
    "      \"\\ndata_type:\", data_type)\n"
   ]
  },
  {
   "cell_type": "markdown",
   "metadata": {},
   "source": [
    "### Manipulating tensors in Numpy "
   ]
  },
  {
   "cell_type": "markdown",
   "metadata": {},
   "source": [
    "##### Tensor slicing"
   ]
  },
  {
   "cell_type": "code",
   "execution_count": 26,
   "metadata": {},
   "outputs": [
    {
     "name": "stdout",
     "output_type": "stream",
     "text": [
      "(90, 28, 28)\n"
     ]
    }
   ],
   "source": [
    "# Loading the MNIST dataset in Keras\n",
    "import keras \n",
    "from keras.datasets import mnist\n",
    "(train_images, train_labels),  (test_images, test_labels) = mnist.load_data()\n",
    "\n",
    "# Tensor slicing\n",
    "my_slice = train_images[10:100]\n",
    "print(my_slice.shape)"
   ]
  },
  {
   "cell_type": "code",
   "execution_count": 27,
   "metadata": {},
   "outputs": [
    {
     "data": {
      "text/plain": [
       "(90, 28, 28)"
      ]
     },
     "execution_count": 27,
     "metadata": {},
     "output_type": "execute_result"
    }
   ],
   "source": [
    "# Another equivalent method is to select the entire axis\n",
    "my_slice = train_images[10:100, :, :]\n",
    "my_slice.shape"
   ]
  },
  {
   "cell_type": "code",
   "execution_count": 28,
   "metadata": {},
   "outputs": [
    {
     "data": {
      "text/plain": [
       "(90, 28, 28)"
      ]
     },
     "execution_count": 28,
     "metadata": {},
     "output_type": "execute_result"
    }
   ],
   "source": [
    "# Also equivalent to the previous example \n",
    "my_slice = train_images[10:100, 0:28, 0:28]\n",
    "my_slice.shape"
   ]
  },
  {
   "cell_type": "code",
   "execution_count": 30,
   "metadata": {},
   "outputs": [],
   "source": [
    "# It's also possible to use negative indices. In order to crop the images to patch of 14*14 pixel centered in the middle, you fo this:\n",
    "my_slice = train_images[:, 7:-7, 7:-7]\n"
   ]
  },
  {
   "cell_type": "markdown",
   "metadata": {},
   "source": [
    "##### The notion of data batches "
   ]
  },
  {
   "cell_type": "markdown",
   "metadata": {},
   "source": [
    "Deep-learning models don't process an entire dataset at once ; rather, they break the data into small batches."
   ]
  },
  {
   "cell_type": "code",
   "execution_count": 34,
   "metadata": {},
   "outputs": [],
   "source": [
    "# Here's one batch of our MNIST digits\n",
    "batch = train_images[:128]\n",
    "\n",
    "# Here's the next batch \n",
    "batch = train_images[128:256]\n",
    "\n",
    "# The nth batch: batch = train_images[128*n:128*(n-1)]"
   ]
  },
  {
   "cell_type": "markdown",
   "metadata": {},
   "source": [
    "##### Real-world examples of data tensors "
   ]
  },
  {
   "cell_type": "markdown",
   "metadata": {},
   "source": [
    "The data you'll manipulate will almost always fall into one of the following categories:\n",
    "- Vector data -2D tensors of shape (samples, features)\n",
    "- Timeseries data or sequence data -3D tensors of shape (samples, timesteps, features)\n",
    "- Images -4D tensors of shape (samples, height, width, channels) or (samples, channels, height, width)\n",
    "- Video -5D tensors of shape (samples, frames, height, width, channels) or (samples, frames, channel, height, width)"
   ]
  }
 ],
 "metadata": {
  "kernelspec": {
   "display_name": "Python 3",
   "language": "python",
   "name": "python3"
  },
  "language_info": {
   "codemirror_mode": {
    "name": "ipython",
    "version": 3
   },
   "file_extension": ".py",
   "mimetype": "text/x-python",
   "name": "python",
   "nbconvert_exporter": "python",
   "pygments_lexer": "ipython3",
   "version": "3.9.6"
  }
 },
 "nbformat": 4,
 "nbformat_minor": 2
}
